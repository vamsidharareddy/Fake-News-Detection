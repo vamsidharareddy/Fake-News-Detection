{
  "cells": [
    {
      "cell_type": "code",
      "execution_count": null,
      "metadata": {
        "colab": {
          "base_uri": "https://localhost:8080/"
        },
        "id": "VBXkRqHqyole",
        "outputId": "ddafae08-be05-4f25-e96a-d769e1dedcae"
      },
      "outputs": [
        {
          "name": "stdout",
          "output_type": "stream",
          "text": [
            "Drive already mounted at /content/drive; to attempt to forcibly remount, call drive.mount(\"/content/drive\", force_remount=True).\n"
          ]
        }
      ],
      "source": [
        "# Mount Google Drive - applicable, if working on Google Drive\n",
        "from google.colab import drive\n",
        "drive.mount('/content/drive')"
      ]
    },
    {
      "cell_type": "markdown",
      "metadata": {
        "id": "lRrjPbhhyPhi"
      },
      "source": [
        "# Grid Search CV"
      ]
    },
    {
      "cell_type": "code",
      "execution_count": null,
      "metadata": {
        "colab": {
          "base_uri": "https://localhost:8080/"
        },
        "id": "p_AVEx1a1h6c",
        "outputId": "6156a6bb-4b39-4dcf-e8b1-bb2ba7a9c804"
      },
      "outputs": [
        {
          "name": "stdout",
          "output_type": "stream",
          "text": [
            "Fitting 3 folds for each of 20 candidates, totalling 60 fits\n",
            "Validation Set Performance:\n",
            "               precision    recall  f1-score   support\n",
            "\n",
            "           0       0.96      0.94      0.95      1189\n",
            "           1       0.94      0.96      0.95      1188\n",
            "\n",
            "    accuracy                           0.95      2377\n",
            "   macro avg       0.95      0.95      0.95      2377\n",
            "weighted avg       0.95      0.95      0.95      2377\n",
            "\n",
            "Test Set Performance:\n",
            "               precision    recall  f1-score   support\n",
            "\n",
            "           0       0.96      0.94      0.95      1189\n",
            "           1       0.94      0.96      0.95      1189\n",
            "\n",
            "    accuracy                           0.95      2378\n",
            "   macro avg       0.95      0.95      0.95      2378\n",
            "weighted avg       0.95      0.95      0.95      2378\n",
            "\n"
          ]
        }
      ],
      "source": [
        "import pandas as pd\n",
        "from sklearn.feature_extraction.text import TfidfVectorizer\n",
        "from sklearn.ensemble import RandomForestClassifier\n",
        "from sklearn.model_selection import RandomizedSearchCV\n",
        "from sklearn.metrics import classification_report\n",
        "import joblib\n",
        "import numpy as np\n",
        "\n",
        "# Load datasets\n",
        "train_data = pd.read_csv('/content/drive/MyDrive/D3/train_data_split.csv')\n",
        "val_data = pd.read_csv('/content/drive/MyDrive/D3/val_data_split.csv')\n",
        "test_data = pd.read_csv('/content/drive/MyDrive/D3/test_data_split.csv')\n",
        "\n",
        "# Prepare the data\n",
        "vectorizer = TfidfVectorizer(max_features=500)  # Reduced number of features for faster processing\n",
        "X_train = vectorizer.fit_transform(train_data['text'])\n",
        "y_train = train_data['label']\n",
        "X_val = vectorizer.transform(val_data['text'])\n",
        "y_val = val_data['label']\n",
        "X_test = vectorizer.transform(test_data['text'])\n",
        "y_test = test_data['label']\n",
        "\n",
        "# Set up the Random Forest model and hyperparameters\n",
        "rf = RandomForestClassifier()\n",
        "param_dist = {\n",
        "    'n_estimators': [100, 200],\n",
        "    'max_depth': [None, 10, 20],\n",
        "    'min_samples_split': [2, 5],\n",
        "    'min_samples_leaf': [1, 2],\n",
        "    'bootstrap': [True, False]  # Added an additional parameter for better tuning\n",
        "}\n",
        "\n",
        "# Hyperparameter tuning with RandomizedSearchCV\n",
        "random_search = RandomizedSearchCV(estimator=rf, param_distributions=param_dist,\n",
        "                                    n_iter=20, cv=3, n_jobs=-1, verbose=2,\n",
        "                                    random_state=42)\n",
        "random_search.fit(X_train, y_train)\n",
        "\n",
        "# Best parameters and model\n",
        "best_rf = random_search.best_estimator_\n",
        "\n",
        "# Evaluate the model on the validation set\n",
        "y_pred_val = best_rf.predict(X_val)\n",
        "print(\"Validation Set Performance:\\n\", classification_report(y_val, y_pred_val))\n",
        "\n",
        "# Evaluate the model on the test set\n",
        "y_pred_test = best_rf.predict(X_test)\n",
        "print(\"Test Set Performance:\\n\", classification_report(y_test, y_pred_test))\n",
        "\n",
        "# Save the best model and vectorizer\n",
        "model_save_path = '/content/drive/MyDrive/D3/D3_Random/grid_rf_model.pkl'\n",
        "joblib.dump(best_rf, model_save_path)\n",
        "joblib.dump(vectorizer, '/content/drive/MyDrive/D3/D3_Random/tfidf_vectorizer.pkl')\n",
        "\n",
        "# Save the predictions for ensembling later\n",
        "test_data['rf_predictions'] = y_pred_test\n",
        "test_data.to_csv('/content/drive/MyDrive/D3/D3_Random/test_data_with_rf_predictions.csv', index=False)"
      ]
    },
    {
      "cell_type": "markdown",
      "metadata": {
        "id": "mVfJtiTVyV8F"
      },
      "source": [
        "# Bayes Optimiaztion"
      ]
    },
    {
      "cell_type": "code",
      "execution_count": null,
      "metadata": {
        "colab": {
          "base_uri": "https://localhost:8080/"
        },
        "id": "UObmSD-A1mjX",
        "outputId": "c4efa098-7eb4-4997-f237-fa5f0f76e9fb"
      },
      "outputs": [
        {
          "name": "stdout",
          "output_type": "stream",
          "text": [
            "Requirement already satisfied: scikit-optimize in /usr/local/lib/python3.10/dist-packages (0.10.2)\n",
            "Requirement already satisfied: joblib>=0.11 in /usr/local/lib/python3.10/dist-packages (from scikit-optimize) (1.4.2)\n",
            "Requirement already satisfied: pyaml>=16.9 in /usr/local/lib/python3.10/dist-packages (from scikit-optimize) (24.4.0)\n",
            "Requirement already satisfied: numpy>=1.20.3 in /usr/local/lib/python3.10/dist-packages (from scikit-optimize) (1.25.2)\n",
            "Requirement already satisfied: scipy>=1.1.0 in /usr/local/lib/python3.10/dist-packages (from scikit-optimize) (1.11.4)\n",
            "Requirement already satisfied: scikit-learn>=1.0.0 in /usr/local/lib/python3.10/dist-packages (from scikit-optimize) (1.2.2)\n",
            "Requirement already satisfied: packaging>=21.3 in /usr/local/lib/python3.10/dist-packages (from scikit-optimize) (24.1)\n",
            "Requirement already satisfied: PyYAML in /usr/local/lib/python3.10/dist-packages (from pyaml>=16.9->scikit-optimize) (6.0.1)\n",
            "Requirement already satisfied: threadpoolctl>=2.0.0 in /usr/local/lib/python3.10/dist-packages (from scikit-learn>=1.0.0->scikit-optimize) (3.5.0)\n"
          ]
        }
      ],
      "source": [
        "!pip install scikit-optimize"
      ]
    },
    {
      "cell_type": "code",
      "execution_count": null,
      "metadata": {
        "colab": {
          "base_uri": "https://localhost:8080/"
        },
        "id": "Gs308Ojj7Ymx",
        "outputId": "12135aa5-a337-4d29-dac5-669dad7e8226"
      },
      "outputs": [
        {
          "name": "stdout",
          "output_type": "stream",
          "text": [
            "Fitting 3 folds for each of 1 candidates, totalling 3 fits\n",
            "Fitting 3 folds for each of 1 candidates, totalling 3 fits\n",
            "Fitting 3 folds for each of 1 candidates, totalling 3 fits\n",
            "Fitting 3 folds for each of 1 candidates, totalling 3 fits\n",
            "Fitting 3 folds for each of 1 candidates, totalling 3 fits\n",
            "Fitting 3 folds for each of 1 candidates, totalling 3 fits\n",
            "Fitting 3 folds for each of 1 candidates, totalling 3 fits\n",
            "Fitting 3 folds for each of 1 candidates, totalling 3 fits\n",
            "Fitting 3 folds for each of 1 candidates, totalling 3 fits\n",
            "Fitting 3 folds for each of 1 candidates, totalling 3 fits\n",
            "Fitting 3 folds for each of 1 candidates, totalling 3 fits\n",
            "Fitting 3 folds for each of 1 candidates, totalling 3 fits\n",
            "Fitting 3 folds for each of 1 candidates, totalling 3 fits\n",
            "Fitting 3 folds for each of 1 candidates, totalling 3 fits\n",
            "Fitting 3 folds for each of 1 candidates, totalling 3 fits\n",
            "Fitting 3 folds for each of 1 candidates, totalling 3 fits\n",
            "Fitting 3 folds for each of 1 candidates, totalling 3 fits\n",
            "Fitting 3 folds for each of 1 candidates, totalling 3 fits\n",
            "Fitting 3 folds for each of 1 candidates, totalling 3 fits\n",
            "Fitting 3 folds for each of 1 candidates, totalling 3 fits\n",
            "Fitting 3 folds for each of 1 candidates, totalling 3 fits\n",
            "Fitting 3 folds for each of 1 candidates, totalling 3 fits\n",
            "Fitting 3 folds for each of 1 candidates, totalling 3 fits\n",
            "Fitting 3 folds for each of 1 candidates, totalling 3 fits\n",
            "Fitting 3 folds for each of 1 candidates, totalling 3 fits\n",
            "Fitting 3 folds for each of 1 candidates, totalling 3 fits\n",
            "Fitting 3 folds for each of 1 candidates, totalling 3 fits\n",
            "Fitting 3 folds for each of 1 candidates, totalling 3 fits\n",
            "Fitting 3 folds for each of 1 candidates, totalling 3 fits\n",
            "Fitting 3 folds for each of 1 candidates, totalling 3 fits\n",
            "Test Accuracy: 0.6526263627353815\n"
          ]
        }
      ],
      "source": [
        "import pandas as pd\n",
        "from sklearn.ensemble import RandomForestClassifier\n",
        "from sklearn.metrics import accuracy_score\n",
        "from sklearn.pipeline import Pipeline\n",
        "from sklearn.compose import ColumnTransformer\n",
        "from sklearn.preprocessing import StandardScaler, OneHotEncoder\n",
        "from skopt import BayesSearchCV\n",
        "from skopt.space import Integer\n",
        "from joblib import dump\n",
        "\n",
        "# Load datasets\n",
        "train_data = pd.read_csv('/content/drive/MyDrive/D3/dataset/train.csv')\n",
        "val_data = pd.read_csv('/content/drive/MyDrive/D3/dataset/val.csv')\n",
        "test_data = pd.read_csv('/content/drive/MyDrive/D3/dataset/test.csv')\n",
        "\n",
        "# Assume 'label' is the target and other columns are features\n",
        "X_train = train_data.drop(columns=['label'])\n",
        "y_train = train_data['label']\n",
        "X_val = val_data.drop(columns=['label'])\n",
        "y_val = val_data['label']\n",
        "X_test = test_data.drop(columns=['label'])\n",
        "y_test = test_data['label']\n",
        "\n",
        "# Combine training and validation data\n",
        "X_train_combined = pd.concat([X_train, X_val])\n",
        "y_train_combined = pd.concat([y_train, y_val])\n",
        "\n",
        "# Preprocessing pipeline\n",
        "numeric_features = X_train_combined.select_dtypes(include=['int64', 'float64']).columns\n",
        "categorical_features = X_train_combined.select_dtypes(include=['object']).columns\n",
        "\n",
        "preprocessor = ColumnTransformer(\n",
        "    transformers=[\n",
        "        ('num', StandardScaler(), numeric_features),\n",
        "        ('cat', OneHotEncoder(handle_unknown='ignore'), categorical_features) # Handle unknown categories during testing\n",
        "    ])\n",
        "\n",
        "# Define the Random Forest model and hyperparameter space\n",
        "rf_model = RandomForestClassifier(random_state=42)\n",
        "param_space = {\n",
        "    'classifier__n_estimators': Integer(100, 300),\n",
        "    'classifier__max_depth': Integer(10, 30),\n",
        "    'classifier__min_samples_split': Integer(2, 10),\n",
        "    'classifier__min_samples_leaf': Integer(1, 4)\n",
        "}\n",
        "\n",
        "# Create a pipeline\n",
        "pipeline = Pipeline(steps=[('preprocessor', preprocessor),\n",
        "                           ('classifier', rf_model)])\n",
        "\n",
        "# Initialize Bayesian Optimization\n",
        "bayes_search = BayesSearchCV(estimator=pipeline, search_spaces=param_space, n_iter=30, cv=3, n_jobs=-1, verbose=2, random_state=42)\n",
        "\n",
        "# Fit the model\n",
        "bayes_search.fit(X_train_combined, y_train_combined)\n",
        "\n",
        "# Save the best model\n",
        "model_save_path = '/content/drive/MyDrive/D3/D3_Random/bayes_rf_model.pkl'\n",
        "dump(bayes_search.best_estimator_, model_save_path)\n",
        "\n",
        "# Evaluate the best model on the test set\n",
        "y_pred = bayes_search.best_estimator_.predict(X_test) # No need to replace unknown categories now\n",
        "accuracy = accuracy_score(y_test, y_pred)\n",
        "print(f\"Test Accuracy: {accuracy}\")"
      ]
    },
    {
      "cell_type": "markdown",
      "metadata": {
        "id": "_FrEpPgvyQLp"
      },
      "source": [
        "# PBT"
      ]
    },
    {
      "cell_type": "code",
      "execution_count": null,
      "metadata": {
        "colab": {
          "base_uri": "https://localhost:8080/"
        },
        "id": "6I5iwDP4yrih",
        "outputId": "edd924ec-e0d3-4f86-b7ea-90af969e60bf"
      },
      "outputs": [
        {
          "name": "stdout",
          "output_type": "stream",
          "text": [
            "Collecting ray[tune]\n",
            "  Downloading ray-2.32.0-cp310-cp310-manylinux2014_x86_64.whl (65.7 MB)\n",
            "\u001b[2K     \u001b[90m━━━━━━━━━━━━━━━━━━━━━━━━━━━━━━━━━━━━━━━━\u001b[0m \u001b[32m65.7/65.7 MB\u001b[0m \u001b[31m11.8 MB/s\u001b[0m eta \u001b[36m0:00:00\u001b[0m\n",
            "\u001b[?25hRequirement already satisfied: click>=7.0 in /usr/local/lib/python3.10/dist-packages (from ray[tune]) (8.1.7)\n",
            "Requirement already satisfied: filelock in /usr/local/lib/python3.10/dist-packages (from ray[tune]) (3.15.4)\n",
            "Requirement already satisfied: jsonschema in /usr/local/lib/python3.10/dist-packages (from ray[tune]) (4.19.2)\n",
            "Requirement already satisfied: msgpack<2.0.0,>=1.0.0 in /usr/local/lib/python3.10/dist-packages (from ray[tune]) (1.0.8)\n",
            "Requirement already satisfied: packaging in /usr/local/lib/python3.10/dist-packages (from ray[tune]) (24.1)\n",
            "Requirement already satisfied: protobuf!=3.19.5,>=3.15.3 in /usr/local/lib/python3.10/dist-packages (from ray[tune]) (3.20.3)\n",
            "Requirement already satisfied: pyyaml in /usr/local/lib/python3.10/dist-packages (from ray[tune]) (6.0.1)\n",
            "Requirement already satisfied: aiosignal in /usr/local/lib/python3.10/dist-packages (from ray[tune]) (1.3.1)\n",
            "Requirement already satisfied: frozenlist in /usr/local/lib/python3.10/dist-packages (from ray[tune]) (1.4.1)\n",
            "Requirement already satisfied: requests in /usr/local/lib/python3.10/dist-packages (from ray[tune]) (2.31.0)\n",
            "Requirement already satisfied: pandas in /usr/local/lib/python3.10/dist-packages (from ray[tune]) (2.0.3)\n",
            "Collecting tensorboardX>=1.9 (from ray[tune])\n",
            "  Downloading tensorboardX-2.6.2.2-py2.py3-none-any.whl (101 kB)\n",
            "\u001b[2K     \u001b[90m━━━━━━━━━━━━━━━━━━━━━━━━━━━━━━━━━━━━━━━━\u001b[0m \u001b[32m101.7/101.7 kB\u001b[0m \u001b[31m15.9 MB/s\u001b[0m eta \u001b[36m0:00:00\u001b[0m\n",
            "\u001b[?25hRequirement already satisfied: pyarrow>=6.0.1 in /usr/local/lib/python3.10/dist-packages (from ray[tune]) (14.0.2)\n",
            "Requirement already satisfied: fsspec in /usr/local/lib/python3.10/dist-packages (from ray[tune]) (2023.6.0)\n",
            "Requirement already satisfied: numpy>=1.16.6 in /usr/local/lib/python3.10/dist-packages (from pyarrow>=6.0.1->ray[tune]) (1.25.2)\n",
            "Requirement already satisfied: attrs>=22.2.0 in /usr/local/lib/python3.10/dist-packages (from jsonschema->ray[tune]) (23.2.0)\n",
            "Requirement already satisfied: jsonschema-specifications>=2023.03.6 in /usr/local/lib/python3.10/dist-packages (from jsonschema->ray[tune]) (2023.12.1)\n",
            "Requirement already satisfied: referencing>=0.28.4 in /usr/local/lib/python3.10/dist-packages (from jsonschema->ray[tune]) (0.35.1)\n",
            "Requirement already satisfied: rpds-py>=0.7.1 in /usr/local/lib/python3.10/dist-packages (from jsonschema->ray[tune]) (0.19.0)\n",
            "Requirement already satisfied: python-dateutil>=2.8.2 in /usr/local/lib/python3.10/dist-packages (from pandas->ray[tune]) (2.8.2)\n",
            "Requirement already satisfied: pytz>=2020.1 in /usr/local/lib/python3.10/dist-packages (from pandas->ray[tune]) (2023.4)\n",
            "Requirement already satisfied: tzdata>=2022.1 in /usr/local/lib/python3.10/dist-packages (from pandas->ray[tune]) (2024.1)\n",
            "Requirement already satisfied: charset-normalizer<4,>=2 in /usr/local/lib/python3.10/dist-packages (from requests->ray[tune]) (3.3.2)\n",
            "Requirement already satisfied: idna<4,>=2.5 in /usr/local/lib/python3.10/dist-packages (from requests->ray[tune]) (3.7)\n",
            "Requirement already satisfied: urllib3<3,>=1.21.1 in /usr/local/lib/python3.10/dist-packages (from requests->ray[tune]) (2.0.7)\n",
            "Requirement already satisfied: certifi>=2017.4.17 in /usr/local/lib/python3.10/dist-packages (from requests->ray[tune]) (2024.7.4)\n",
            "Requirement already satisfied: six>=1.5 in /usr/local/lib/python3.10/dist-packages (from python-dateutil>=2.8.2->pandas->ray[tune]) (1.16.0)\n",
            "Installing collected packages: tensorboardX, ray\n",
            "Successfully installed ray-2.32.0 tensorboardX-2.6.2.2\n"
          ]
        }
      ],
      "source": [
        "!pip install ray[tune]"
      ]
    },
    {
      "cell_type": "code",
      "execution_count": null,
      "metadata": {
        "colab": {
          "base_uri": "https://localhost:8080/"
        },
        "id": "AufC3M4D84Re",
        "outputId": "73f25107-b45a-4c91-d325-e1c1ccd7f5c3"
      },
      "outputs": [
        {
          "name": "stdout",
          "output_type": "stream",
          "text": [
            "Fitting 5 folds for each of 81 candidates, totalling 405 fits\n",
            "Test Accuracy: 0.655599603567889\n"
          ]
        },
        {
          "data": {
            "text/plain": [
              "['/content/drive/MyDrive/D3/D3_Random/pbt_rf_model.pkl']"
            ]
          },
          "execution_count": 8,
          "metadata": {},
          "output_type": "execute_result"
        }
      ],
      "source": [
        "import pandas as pd\n",
        "import numpy as np\n",
        "from sklearn.ensemble import RandomForestClassifier\n",
        "from sklearn.metrics import accuracy_score\n",
        "from sklearn.pipeline import Pipeline\n",
        "from sklearn.compose import ColumnTransformer\n",
        "from sklearn.preprocessing import StandardScaler, OneHotEncoder\n",
        "from sklearn.model_selection import GridSearchCV\n",
        "from joblib import dump\n",
        "\n",
        "# Load datasets\n",
        "train_data = pd.read_csv('/content/drive/MyDrive/D3/dataset/train.csv')\n",
        "val_data = pd.read_csv('/content/drive/MyDrive/D3/dataset/val.csv')\n",
        "test_data = pd.read_csv('/content/drive/MyDrive/D3/dataset/test.csv')\n",
        "\n",
        "# Assume 'label' is the target and other columns are features\n",
        "X_train = train_data.drop(columns=['label'])\n",
        "y_train = train_data['label']\n",
        "X_val = val_data.drop(columns=['label'])\n",
        "y_val = val_data['label']\n",
        "X_test = test_data.drop(columns=['label'])\n",
        "y_test = test_data['label']\n",
        "\n",
        "# Combine training and validation data\n",
        "X_train_combined = pd.concat([X_train, X_val])\n",
        "y_train_combined = pd.concat([y_train, y_val])\n",
        "\n",
        "# Preprocessing pipeline\n",
        "numeric_features = X_train_combined.select_dtypes(include=['int64', 'float64']).columns\n",
        "categorical_features = X_train_combined.select_dtypes(include=['object']).columns\n",
        "\n",
        "preprocessor = ColumnTransformer(\n",
        "    transformers=[\n",
        "        ('num', StandardScaler(), numeric_features),\n",
        "        ('cat', OneHotEncoder(handle_unknown='ignore'), categorical_features)\n",
        "    ])\n",
        "\n",
        "# Define the model pipeline\n",
        "rf_pipeline = Pipeline(steps=[('preprocessor', preprocessor),\n",
        "                              ('classifier', RandomForestClassifier(random_state=42))])\n",
        "\n",
        "# Define the parameter grid\n",
        "param_grid = {\n",
        "    'classifier__n_estimators': [100, 150, 200],\n",
        "    'classifier__max_depth': [10, 20, 30],\n",
        "    'classifier__min_samples_split': [2, 5, 10],\n",
        "    'classifier__min_samples_leaf': [1, 2, 4]\n",
        "}\n",
        "\n",
        "# Perform GridSearchCV\n",
        "grid_search = GridSearchCV(rf_pipeline, param_grid, cv=5, scoring='accuracy', n_jobs=-1, verbose=2)\n",
        "grid_search.fit(X_train_combined, y_train_combined)\n",
        "\n",
        "# Get the best performing model\n",
        "best_model = grid_search.best_estimator_\n",
        "\n",
        "# Fit the best model on the combined training and validation set\n",
        "best_model.fit(X_train_combined, y_train_combined)\n",
        "\n",
        "# Evaluate the model on the test set\n",
        "y_test_pred = best_model.predict(X_test)\n",
        "test_accuracy = accuracy_score(y_test, y_test_pred)\n",
        "print(f\"Test Accuracy: {test_accuracy}\")\n",
        "\n",
        "# Save the best model\n",
        "model_save_path = '/content/drive/MyDrive/D3/D3_Random/pbt_rf_model.pkl'\n",
        "dump(best_model, model_save_path)\n"
      ]
    },
    {
      "cell_type": "markdown",
      "metadata": {
        "id": "8yQ3jK-uyPk2"
      },
      "source": [
        "# Genetic"
      ]
    },
    {
      "cell_type": "code",
      "execution_count": null,
      "metadata": {
        "colab": {
          "base_uri": "https://localhost:8080/"
        },
        "collapsed": true,
        "id": "dkGgwysXoxSg",
        "outputId": "54be10ee-d75d-4c8a-d43d-a70d4d9ff137"
      },
      "outputs": [
        {
          "name": "stdout",
          "output_type": "stream",
          "text": [
            "Requirement already satisfied: scikit-learn in /usr/local/lib/python3.10/dist-packages (1.5.1)\n",
            "Requirement already satisfied: deap in /usr/local/lib/python3.10/dist-packages (1.4.1)\n",
            "Requirement already satisfied: numpy>=1.19.5 in /usr/local/lib/python3.10/dist-packages (from scikit-learn) (1.25.2)\n",
            "Requirement already satisfied: scipy>=1.6.0 in /usr/local/lib/python3.10/dist-packages (from scikit-learn) (1.11.4)\n",
            "Requirement already satisfied: joblib>=1.2.0 in /usr/local/lib/python3.10/dist-packages (from scikit-learn) (1.4.2)\n",
            "Requirement already satisfied: threadpoolctl>=3.1.0 in /usr/local/lib/python3.10/dist-packages (from scikit-learn) (3.5.0)\n"
          ]
        }
      ],
      "source": [
        "pip install scikit-learn deap"
      ]
    },
    {
      "cell_type": "code",
      "execution_count": null,
      "metadata": {
        "colab": {
          "base_uri": "https://localhost:8080/"
        },
        "id": "jYn03qq-yV-K",
        "outputId": "d5723adb-1479-4b4f-94d9-728867491398"
      },
      "outputs": [
        {
          "name": "stdout",
          "output_type": "stream",
          "text": [
            "Requirement already satisfied: deap in /usr/local/lib/python3.10/dist-packages (1.4.1)\n",
            "Requirement already satisfied: scikit-learn in /usr/local/lib/python3.10/dist-packages (1.5.1)\n",
            "Requirement already satisfied: pandas in /usr/local/lib/python3.10/dist-packages (2.0.3)\n",
            "Requirement already satisfied: numpy in /usr/local/lib/python3.10/dist-packages (from deap) (1.25.2)\n",
            "Requirement already satisfied: scipy>=1.6.0 in /usr/local/lib/python3.10/dist-packages (from scikit-learn) (1.11.4)\n",
            "Requirement already satisfied: joblib>=1.2.0 in /usr/local/lib/python3.10/dist-packages (from scikit-learn) (1.4.2)\n",
            "Requirement already satisfied: threadpoolctl>=3.1.0 in /usr/local/lib/python3.10/dist-packages (from scikit-learn) (3.5.0)\n",
            "Requirement already satisfied: python-dateutil>=2.8.2 in /usr/local/lib/python3.10/dist-packages (from pandas) (2.8.2)\n",
            "Requirement already satisfied: pytz>=2020.1 in /usr/local/lib/python3.10/dist-packages (from pandas) (2023.4)\n",
            "Requirement already satisfied: tzdata>=2022.1 in /usr/local/lib/python3.10/dist-packages (from pandas) (2024.1)\n",
            "Requirement already satisfied: six>=1.5 in /usr/local/lib/python3.10/dist-packages (from python-dateutil>=2.8.2->pandas) (1.16.0)\n"
          ]
        }
      ],
      "source": [
        "pip install deap scikit-learn pandas"
      ]
    },
    {
      "cell_type": "code",
      "execution_count": null,
      "metadata": {
        "colab": {
          "base_uri": "https://localhost:8080/"
        },
        "id": "gjUlty4avk1X",
        "outputId": "b8e0b791-0c95-4c0b-f8cb-452169f34a44"
      },
      "outputs": [
        {
          "name": "stderr",
          "output_type": "stream",
          "text": [
            "/usr/local/lib/python3.10/dist-packages/deap/creator.py:185: RuntimeWarning: A class named 'FitnessMax' has already been created and it will be overwritten. Consider deleting previous creation of that class or rename it.\n",
            "  warnings.warn(\"A class named '{0}' has already been created and it \"\n",
            "/usr/local/lib/python3.10/dist-packages/deap/creator.py:185: RuntimeWarning: A class named 'Individual' has already been created and it will be overwritten. Consider deleting previous creation of that class or rename it.\n",
            "  warnings.warn(\"A class named '{0}' has already been created and it \"\n"
          ]
        },
        {
          "name": "stdout",
          "output_type": "stream",
          "text": [
            "Starting Genetic Algorithm...\n",
            "gen\tnevals\n",
            "0  \t10    \n",
            "1  \t6     \n",
            "2  \t4     \n",
            "3  \t7     \n",
            "4  \t7     \n",
            "5  \t6     \n",
            "6  \t7     \n",
            "7  \t2     \n",
            "8  \t6     \n",
            "9  \t6     \n",
            "10 \t5     \n",
            "Best individual: [133.27592032166018, 17.552871299632447, 10.217156193346494, 15.588369011219896]\n",
            "Best fitness: 0.8959365708622399\n",
            "Test Accuracy (Random Forest): 0.8459\n",
            "\n",
            "Classification Report on Test Set (Random Forest):\n",
            "              precision    recall  f1-score   support\n",
            "\n",
            "           0       0.99      0.63      0.77       822\n",
            "           1       0.79      1.00      0.88      1196\n",
            "\n",
            "    accuracy                           0.85      2018\n",
            "   macro avg       0.89      0.81      0.83      2018\n",
            "weighted avg       0.88      0.85      0.84      2018\n",
            "\n",
            "Model saved to /content/drive/MyDrive/D3/D3_Random/genetic_rf_model.pkl\n"
          ]
        }
      ],
      "source": [
        "import pandas as pd\n",
        "from sklearn.ensemble import RandomForestClassifier\n",
        "from sklearn.metrics import accuracy_score, classification_report\n",
        "from sklearn.preprocessing import LabelEncoder\n",
        "from sklearn.feature_extraction.text import TfidfVectorizer\n",
        "from deap import base, creator, tools, algorithms\n",
        "import random\n",
        "import pickle\n",
        "\n",
        "# Load datasets\n",
        "train_data = pd.read_csv('/content/drive/MyDrive/D3/dataset/train.csv')\n",
        "val_data = pd.read_csv('/content/drive/MyDrive/D3/dataset/val.csv')\n",
        "test_data = pd.read_csv('/content/drive/MyDrive/D3/dataset/test.csv')\n",
        "\n",
        "# Assuming 'title' is the text feature and 'label' is the target column\n",
        "label_encoder = LabelEncoder()\n",
        "train_data['label'] = label_encoder.fit_transform(train_data['label'])\n",
        "val_data['label'] = label_encoder.transform(val_data['label'])\n",
        "test_data['label'] = label_encoder.transform(test_data['label'])\n",
        "\n",
        "# Convert text data to numerical features using TF-IDF\n",
        "vectorizer = TfidfVectorizer(max_features=5000)\n",
        "X_train_text = vectorizer.fit_transform(train_data['title'])\n",
        "X_val_text = vectorizer.transform(val_data['title'])\n",
        "X_test_text = vectorizer.transform(test_data['title'])\n",
        "\n",
        "# Separate features and target\n",
        "y_train = train_data['label']\n",
        "y_val = val_data['label']\n",
        "y_test = test_data['label']\n",
        "\n",
        "# Define the evaluation function\n",
        "def evaluate(individual):\n",
        "    n_estimators, max_depth, min_samples_split, min_samples_leaf = individual\n",
        "    # Ensure parameters are within valid ranges\n",
        "    n_estimators = int(n_estimators)\n",
        "    max_depth = int(max_depth)\n",
        "    min_samples_split = int(min_samples_split)\n",
        "    min_samples_leaf = int(min_samples_leaf)\n",
        "\n",
        "    if min_samples_leaf < 1:\n",
        "        min_samples_leaf = 1\n",
        "\n",
        "    model = RandomForestClassifier(\n",
        "        n_estimators=n_estimators,\n",
        "        max_depth=max_depth if max_depth > 0 else None,  # max_depth can be None\n",
        "        min_samples_split=min_samples_split,\n",
        "        min_samples_leaf=min_samples_leaf\n",
        "    )\n",
        "    model.fit(X_train_text, y_train)\n",
        "    predictions = model.predict(X_val_text)\n",
        "    accuracy = accuracy_score(y_val, predictions)\n",
        "    return (accuracy,)\n",
        "\n",
        "# Set up the genetic algorithm\n",
        "creator.create(\"FitnessMax\", base.Fitness, weights=(1.0,))\n",
        "creator.create(\"Individual\", list, fitness=creator.FitnessMax)\n",
        "\n",
        "toolbox = base.Toolbox()\n",
        "toolbox.register(\"attr_n_estimators\", random.randint, 50, 200)  # n_estimators between 50 and 200\n",
        "toolbox.register(\"attr_max_depth\", random.randint, 1, 20)  # max_depth between 1 and 20\n",
        "toolbox.register(\"attr_min_samples_split\", random.randint, 2, 20)  # min_samples_split between 2 and 20\n",
        "toolbox.register(\"attr_min_samples_leaf\", random.randint, 1, 20)  # min_samples_leaf between 1 and 20\n",
        "\n",
        "toolbox.register(\"individual\", tools.initCycle, creator.Individual,\n",
        "                 (toolbox.attr_n_estimators, toolbox.attr_max_depth,\n",
        "                  toolbox.attr_min_samples_split, toolbox.attr_min_samples_leaf),\n",
        "                 n=1)\n",
        "toolbox.register(\"population\", tools.initRepeat, list, toolbox.individual)\n",
        "\n",
        "toolbox.register(\"evaluate\", evaluate)\n",
        "toolbox.register(\"mate\", tools.cxBlend, alpha=0.5)\n",
        "toolbox.register(\"mutate\", tools.mutPolynomialBounded, low=[50, 1, 2, 1], up=[200, 20, 20, 20], eta=0.1, indpb=0.2)\n",
        "toolbox.register(\"select\", tools.selTournament, tournsize=3)\n",
        "\n",
        "# Create population and run the algorithm\n",
        "population = toolbox.population(n=10)\n",
        "NGEN, CXPB, MUTPB = 10, 0.5, 0.2\n",
        "\n",
        "print(\"Starting Genetic Algorithm...\")\n",
        "algorithms.eaSimple(population, toolbox, cxpb=CXPB, mutpb=MUTPB, ngen=NGEN, verbose=True)\n",
        "\n",
        "# Get the best individual\n",
        "best_individual = tools.selBest(population, 1)[0]\n",
        "print(f\"Best individual: {best_individual}\")\n",
        "print(f\"Best fitness: {best_individual.fitness.values[0]}\")\n",
        "\n",
        "# Train the Random Forest with the best parameters and evaluate on test set\n",
        "best_model = RandomForestClassifier(\n",
        "    n_estimators=int(best_individual[0]),\n",
        "    max_depth=int(best_individual[1]) if best_individual[1] > 0 else None,\n",
        "    min_samples_split=int(best_individual[2]),\n",
        "    min_samples_leaf=int(best_individual[3])\n",
        ")\n",
        "best_model.fit(X_train_text, y_train)\n",
        "y_test_pred = best_model.predict(X_test_text)\n",
        "test_accuracy = accuracy_score(y_test, y_test_pred)\n",
        "print(f\"Test Accuracy (Random Forest): {test_accuracy:.4f}\")\n",
        "\n",
        "target_names = [str(cls) for cls in label_encoder.classes_]\n",
        "print(\"\\nClassification Report on Test Set (Random Forest):\")\n",
        "print(classification_report(y_test, y_test_pred, target_names=target_names))\n",
        "\n",
        "# Save the model\n",
        "model_save_path = '/content/drive/MyDrive/D3/D3_Random/genetic_rf_model.pkl'\n",
        "with open(model_save_path, 'wb') as model_file:\n",
        "    pickle.dump(best_model, model_file)\n",
        "\n",
        "print(f\"Model saved to {model_save_path}\")"
      ]
    },
    {
      "cell_type": "markdown",
      "metadata": {
        "id": "j30bltR_t8tH"
      },
      "source": [
        "# BERT + GSCV"
      ]
    },
    {
      "cell_type": "code",
      "execution_count": null,
      "metadata": {
        "colab": {
          "base_uri": "https://localhost:8080/",
          "height": 1000
        },
        "id": "VFbNLh3LVeKG",
        "outputId": "c35abc48-6a29-47cb-98bd-d1d45e40bceb"
      },
      "outputs": [
        {
          "name": "stderr",
          "output_type": "stream",
          "text": [
            "/usr/local/lib/python3.10/dist-packages/huggingface_hub/utils/_token.py:89: UserWarning: \n",
            "The secret `HF_TOKEN` does not exist in your Colab secrets.\n",
            "To authenticate with the Hugging Face Hub, create a token in your settings tab (https://huggingface.co/settings/tokens), set it as secret in your Google Colab and restart your session.\n",
            "You will be able to reuse this secret in all of your notebooks.\n",
            "Please note that authentication is recommended but still optional to access public models or datasets.\n",
            "  warnings.warn(\n"
          ]
        },
        {
          "data": {
            "application/vnd.jupyter.widget-view+json": {
              "model_id": "1a1d62f40abb4d2db69fe34146b2d9e1",
              "version_major": 2,
              "version_minor": 0
            },
            "text/plain": [
              "tokenizer_config.json:   0%|          | 0.00/48.0 [00:00<?, ?B/s]"
            ]
          },
          "metadata": {},
          "output_type": "display_data"
        },
        {
          "data": {
            "application/vnd.jupyter.widget-view+json": {
              "model_id": "2346770512b04a5cb44078622288a3b8",
              "version_major": 2,
              "version_minor": 0
            },
            "text/plain": [
              "vocab.txt:   0%|          | 0.00/232k [00:00<?, ?B/s]"
            ]
          },
          "metadata": {},
          "output_type": "display_data"
        },
        {
          "data": {
            "application/vnd.jupyter.widget-view+json": {
              "model_id": "ea2f245d140c4a94b40bc2109ede97e6",
              "version_major": 2,
              "version_minor": 0
            },
            "text/plain": [
              "tokenizer.json:   0%|          | 0.00/466k [00:00<?, ?B/s]"
            ]
          },
          "metadata": {},
          "output_type": "display_data"
        },
        {
          "data": {
            "application/vnd.jupyter.widget-view+json": {
              "model_id": "8d4d8df7e5b44f638f5b4a62558b654a",
              "version_major": 2,
              "version_minor": 0
            },
            "text/plain": [
              "config.json:   0%|          | 0.00/570 [00:00<?, ?B/s]"
            ]
          },
          "metadata": {},
          "output_type": "display_data"
        },
        {
          "data": {
            "application/vnd.jupyter.widget-view+json": {
              "model_id": "6eb546f8019b455e8b5a6ec1936d04cc",
              "version_major": 2,
              "version_minor": 0
            },
            "text/plain": [
              "model.safetensors:   0%|          | 0.00/440M [00:00<?, ?B/s]"
            ]
          },
          "metadata": {},
          "output_type": "display_data"
        },
        {
          "name": "stderr",
          "output_type": "stream",
          "text": [
            "Some weights of BertForSequenceClassification were not initialized from the model checkpoint at bert-base-uncased and are newly initialized: ['classifier.bias', 'classifier.weight']\n",
            "You should probably TRAIN this model on a down-stream task to be able to use it for predictions and inference.\n"
          ]
        },
        {
          "name": "stdout",
          "output_type": "stream",
          "text": [
            "Ensemble Test Set Performance:\n",
            "               precision    recall  f1-score   support\n",
            "\n",
            "           0       0.96      0.94      0.95      1189\n",
            "           1       0.94      0.96      0.95      1189\n",
            "\n",
            "    accuracy                           0.95      2378\n",
            "   macro avg       0.95      0.95      0.95      2378\n",
            "weighted avg       0.95      0.95      0.95      2378\n",
            "\n",
            "Confusion Matrix:\n",
            " [[1112   77]\n",
            " [  48 1141]]\n"
          ]
        },
        {
          "data": {
            "image/png": "[encoded data removed]",
            "text/plain": [
              "<Figure size 500x500 with 2 Axes>"
            ]
          },
          "metadata": {},
          "output_type": "display_data"
        }
      ],
      "source": [
        "import pandas as pd\n",
        "import torch\n",
        "from transformers import BertTokenizer, BertForSequenceClassification\n",
        "import joblib\n",
        "from sklearn.metrics import classification_report, confusion_matrix\n",
        "from torch.utils.data import DataLoader, Dataset\n",
        "import seaborn as sns\n",
        "import matplotlib.pyplot as plt\n",
        "\n",
        "# Load data and models\n",
        "test_data_path = '/content/drive/MyDrive/D3/D3_Random/test_data_with_rf_predictions.csv'\n",
        "rf_model_path = '/content/drive/MyDrive/D3/D3_Random/grid_rf_model.pkl'\n",
        "vectorizer_path = '/content/drive/MyDrive/D3/D3_Random/tfidf_vectorizer.pkl'\n",
        "bert_model_path = '/content/drive/MyDrive/D3/bert_model.pth'\n",
        "\n",
        "test_data = pd.read_csv(test_data_path)\n",
        "best_rf = joblib.load(rf_model_path)\n",
        "vectorizer = joblib.load(vectorizer_path)\n",
        "\n",
        "tokenizer = BertTokenizer.from_pretrained('bert-base-uncased')\n",
        "bert_model = BertForSequenceClassification.from_pretrained('bert-base-uncased')\n",
        "bert_model.load_state_dict(torch.load(bert_model_path))\n",
        "bert_model.eval()\n",
        "\n",
        "# Dataset and DataLoader\n",
        "class TextDataset(Dataset):\n",
        "    def __init__(self, texts, labels=None):\n",
        "        self.texts = texts\n",
        "        self.labels = labels\n",
        "\n",
        "    def __len__(self):\n",
        "        return len(self.texts)\n",
        "\n",
        "    def __getitem__(self, idx):\n",
        "        text = self.texts[idx]\n",
        "        if self.labels is not None:\n",
        "            label = self.labels[idx]\n",
        "            return text, label\n",
        "        return text\n",
        "\n",
        "def encode_batch(batch, tokenizer, max_length=512):\n",
        "    return tokenizer(batch, padding=True, truncation=True, max_length=max_length, return_tensors='pt')\n",
        "\n",
        "def get_bert_predictions(model, tokenizer, dataset, batch_size=16):\n",
        "    dataloader = DataLoader(dataset, batch_size=batch_size, shuffle=False)\n",
        "    predictions = []\n",
        "\n",
        "    for batch in dataloader:\n",
        "        texts = batch if isinstance(batch, list) else batch[0]\n",
        "        inputs = encode_batch(texts, tokenizer)\n",
        "        with torch.no_grad():\n",
        "            outputs = model(**inputs)\n",
        "        preds = torch.argmax(outputs.logits, axis=1).cpu().numpy()\n",
        "        predictions.extend(preds)\n",
        "\n",
        "    return predictions\n",
        "\n",
        "# Process test data\n",
        "test_texts = test_data['text'].tolist()\n",
        "test_dataset = TextDataset(test_texts)\n",
        "bert_test_predictions = get_bert_predictions(bert_model, tokenizer, test_dataset)\n",
        "\n",
        "# Ensure predictions are integer type\n",
        "test_data['bert_predictions'] = pd.Series(bert_test_predictions).astype(int)\n",
        "\n",
        "# Weighted voting\n",
        "rf_weight = 0.6\n",
        "bert_weight = 0.4\n",
        "test_data['ensemble_predictions'] = test_data.apply(lambda x: 1 if (x['rf_predictions'] * rf_weight + x['bert_predictions'] * bert_weight) >= 0.5 else 0, axis=1)\n",
        "\n",
        "# Evaluation\n",
        "print(\"Ensemble Test Set Performance:\\n\", classification_report(test_data['label'], test_data['ensemble_predictions']))\n",
        "\n",
        "# Confusion matrix\n",
        "conf_matrix = confusion_matrix(test_data['label'], test_data['ensemble_predictions'])\n",
        "print(\"Confusion Matrix:\\n\", conf_matrix)\n",
        "\n",
        "# Plot confusion matrix\n",
        "plt.figure(figsize=(5, 5))\n",
        "sns.heatmap(conf_matrix, annot=True, fmt='d', cmap='Blues', xticklabels=['Class 0', 'Class 1'], yticklabels=['Class 0', 'Class 1'])\n",
        "plt.xlabel('Predicted Labels')\n",
        "plt.ylabel('True Labels')\n",
        "plt.title('Confusion Matrix')\n",
        "plt.show()\n",
        "\n",
        "# Save the ensemble predictions\n",
        "output_path = '/content/drive/MyDrive/D3/D3_Random/test_data_with_ensemble_predictions.csv'\n",
        "test_data.to_csv(output_path, index=False)\n"
      ]
    },
    {
      "cell_type": "markdown",
      "metadata": {
        "id": "yUR7Mt-wuBRK"
      },
      "source": [
        "# Testing with Sampling"
      ]
    },
    {
      "cell_type": "code",
      "execution_count": null,
      "metadata": {
        "colab": {
          "background_save": true,
          "base_uri": "https://localhost:8080/"
        },
        "id": "b04aNKCnuGJi",
        "outputId": "82067536-4908-453a-a8c7-3586f92959ad"
      },
      "outputs": [
        {
          "name": "stderr",
          "output_type": "stream",
          "text": [
            "Some weights of BertForSequenceClassification were not initialized from the model checkpoint at bert-base-uncased and are newly initialized: ['classifier.bias', 'classifier.weight']\n",
            "You should probably TRAIN this model on a down-stream task to be able to use it for predictions and inference.\n"
          ]
        },
        {
          "name": "stdout",
          "output_type": "stream",
          "text": [
            "Ensemble Subset Performance:\n",
            "               precision    recall  f1-score   support\n",
            "\n",
            "           0       0.97      0.94      0.96       520\n",
            "           1       0.94      0.96      0.95       480\n",
            "\n",
            "    accuracy                           0.95      1000\n",
            "   macro avg       0.95      0.95      0.95      1000\n",
            "weighted avg       0.95      0.95      0.95      1000\n",
            "\n",
            "Confusion Matrix:\n",
            " [[491  29]\n",
            " [ 17 463]]\n"
          ]
        },
        {
          "data": {
            "image/png": "[encoded data removed]",
            "text/plain": [
              "<Figure size 640x480 with 2 Axes>"
            ]
          },
          "metadata": {},
          "output_type": "display_data"
        }
      ],
      "source": [
        "import pandas as pd\n",
        "import torch\n",
        "from transformers import BertTokenizer, BertForSequenceClassification\n",
        "import joblib\n",
        "from sklearn.metrics import classification_report, confusion_matrix\n",
        "from torch.utils.data import DataLoader, Dataset\n",
        "import seaborn as sns\n",
        "import matplotlib.pyplot as plt\n",
        "from sklearn.model_selection import GridSearchCV\n",
        "from sklearn.ensemble import RandomForestClassifier\n",
        "\n",
        "# Load test data with Random Forest predictions\n",
        "test_data = pd.read_csv('/content/drive/MyDrive/D3/D3_Random/test_data_with_rf_predictions.csv')\n",
        "\n",
        "# Load the Random Forest model and vectorizer\n",
        "rf_model_path = '/content/drive/MyDrive/D3/D3_Random/grid_rf_model.pkl'\n",
        "vectorizer_path = '/content/drive/MyDrive/D3/D3_Random/tfidf_vectorizer.pkl'\n",
        "best_rf = joblib.load(rf_model_path)\n",
        "vectorizer = joblib.load(vectorizer_path)\n",
        "\n",
        "# Load the BERT model and tokenizer\n",
        "bert_model_path = '/content/drive/MyDrive/D3/bert_model.pth'\n",
        "tokenizer = BertTokenizer.from_pretrained('bert-base-uncased')\n",
        "bert_model = BertForSequenceClassification.from_pretrained('bert-base-uncased')\n",
        "bert_model.load_state_dict(torch.load(bert_model_path))\n",
        "\n",
        "# Prepare the data for BERT\n",
        "class TextDataset(Dataset):\n",
        "    def __init__(self, texts, labels=None):\n",
        "        self.texts = texts\n",
        "        self.labels = labels\n",
        "\n",
        "    def __len__(self):\n",
        "        return len(self.texts)\n",
        "\n",
        "    def __getitem__(self, idx):\n",
        "        text = self.texts[idx]\n",
        "        if self.labels is not None:\n",
        "            label = self.labels[idx]\n",
        "            return text, label\n",
        "        return text\n",
        "\n",
        "def encode_batch(batch, tokenizer, max_length=512):\n",
        "    return tokenizer(batch, padding=True, truncation=True, max_length=max_length, return_tensors='pt')\n",
        "\n",
        "def get_bert_predictions(model, tokenizer, dataset, batch_size=16):\n",
        "    dataloader = DataLoader(dataset, batch_size=batch_size, shuffle=False)\n",
        "    model.eval()\n",
        "    predictions = []\n",
        "\n",
        "    for batch in dataloader:\n",
        "        texts = batch if isinstance(batch, list) else batch[0]\n",
        "        inputs = encode_batch(texts, tokenizer)\n",
        "        with torch.no_grad():\n",
        "            outputs = model(**inputs)\n",
        "        preds = torch.argmax(outputs.logits, axis=1).cpu().numpy()\n",
        "        predictions.extend(preds)\n",
        "\n",
        "    return predictions\n",
        "\n",
        "# Subset sampling\n",
        "subset_data = test_data.sample(n=1000, random_state=42)  # Sample 1000 instances\n",
        "\n",
        "# Prepare datasets\n",
        "subset_texts = subset_data['text'].tolist()\n",
        "subset_dataset = TextDataset(subset_texts)\n",
        "\n",
        "# Get BERT predictions for subset data with batch processing\n",
        "bert_subset_predictions = get_bert_predictions(bert_model, tokenizer, subset_dataset)\n",
        "\n",
        "# Ensemble predictions (weighted voting example)\n",
        "subset_data['bert_predictions'] = bert_subset_predictions\n",
        "subset_data['ensemble_predictions'] = subset_data.apply(\n",
        "    lambda x: 1 if (0.7 * x['rf_predictions'] + 0.3 * x['bert_predictions']) > 0.5 else 0, axis=1)\n",
        "\n",
        "# Evaluate ensemble performance on the subset\n",
        "print(\"Ensemble Subset Performance:\\n\", classification_report(subset_data['label'], subset_data['ensemble_predictions']))\n",
        "\n",
        "# Confusion matrix\n",
        "conf_matrix = confusion_matrix(subset_data['label'], subset_data['ensemble_predictions'])\n",
        "print(\"Confusion Matrix:\\n\", conf_matrix)\n",
        "\n",
        "# Plot confusion matrix\n",
        "sns.heatmap(conf_matrix, annot=True, fmt='d', cmap='Blues')\n",
        "plt.xlabel('Predicted Labels')\n",
        "plt.ylabel('True Labels')\n",
        "plt.title('Confusion Matrix')\n",
        "plt.show()\n",
        "\n",
        "# Save the ensemble predictions for the subset\n",
        "subset_data.to_csv('/content/drive/MyDrive/D3/D3_Random/subset_test_data_with_ensemble_predictions.csv', index=False)"
      ]
    }
  ],
  "metadata": {
    "colab": {
      "collapsed_sections": [
        "lRrjPbhhyPhi",
        "mVfJtiTVyV8F",
        "_FrEpPgvyQLp",
        "8yQ3jK-uyPk2",
        "j30bltR_t8tH"
      ],
      "provenance": [],
      "toc_visible": true
    },
    "kernelspec": {
      "display_name": "Python 3",
      "name": "python3"
    },
    "language_info": {
      "name": "python"
    }
  },
  "nbformat": 4,
  "nbformat_minor": 0
}