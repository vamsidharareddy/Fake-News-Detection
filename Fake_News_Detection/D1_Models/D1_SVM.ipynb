{
  "nbformat": 4,
  "nbformat_minor": 0,
  "metadata": {
    "colab": {
      "provenance": [],
      "toc_visible": true
    },
    "kernelspec": {
      "name": "python3",
      "display_name": "Python 3"
    },
    "language_info": {
      "name": "python"
    }
  },
  "cells": [
    {
      "cell_type": "code",
      "execution_count": null,
      "metadata": {
        "colab": {
          "base_uri": "https://localhost:8080/"
        },
        "id": "pvWUK6y0IxAO",
        "outputId": "50b65810-a364-4d11-9fe6-d01874301085"
      },
      "outputs": [
        {
          "output_type": "stream",
          "name": "stdout",
          "text": [
            "Mounted at /content/drive\n"
          ]
        }
      ],
      "source": [
        "from google.colab import drive\n",
        "drive.mount('/content/drive')"
      ]
    },
    {
      "cell_type": "markdown",
      "source": [
        "# Population-based Training"
      ],
      "metadata": {
        "id": "nAtYHY5Uakgv"
      }
    },
    {
      "cell_type": "code",
      "source": [
        "import pandas as pd\n",
        "from sklearn.svm import SVC\n",
        "from sklearn.metrics import accuracy_score\n",
        "from sklearn.preprocessing import LabelEncoder\n",
        "from sklearn.feature_extraction.text import TfidfVectorizer\n",
        "import joblib  # Correct import for joblib"
      ],
      "metadata": {
        "id": "DsUnIjX0N520"
      },
      "execution_count": null,
      "outputs": []
    },
    {
      "cell_type": "code",
      "source": [
        "# Step 1: Load the datasets\n",
        "train_data_path = '/content/drive/MyDrive/Project11_FakeNewsDetection/train.csv'\n",
        "val_data_path = '/content/drive/MyDrive/Project11_FakeNewsDetection/val.csv'\n",
        "test_data_path = '/content/drive/MyDrive/Project11_FakeNewsDetection/test.csv'\n",
        "\n",
        "train_data = pd.read_csv(train_data_path)\n",
        "val_data = pd.read_csv(val_data_path)\n",
        "test_data = pd.read_csv(test_data_path)\n",
        "\n",
        "# Assuming your 'label' column needs encoding (if not binary already)\n",
        "label_encoder = LabelEncoder()\n",
        "train_data['label'] = label_encoder.fit_transform(train_data['label'])\n",
        "val_data['label'] = label_encoder.transform(val_data['label'])\n",
        "test_data['label'] = label_encoder.transform(test_data['label'])\n"
      ],
      "metadata": {
        "id": "qZv4O-ObOajl"
      },
      "execution_count": null,
      "outputs": []
    },
    {
      "cell_type": "code",
      "source": [
        "# Step 2: Feature extraction (TF-IDF)\n",
        "vectorizer = TfidfVectorizer(max_features=1000)\n",
        "X_train_tfidf = vectorizer.fit_transform(train_data['title'])\n",
        "X_val_tfidf = vectorizer.transform(val_data['title'])\n",
        "X_test_tfidf = vectorizer.transform(test_data['title'])\n",
        "y_train = train_data['label']\n",
        "y_val = val_data['label']\n",
        "y_test = test_data['label']"
      ],
      "metadata": {
        "id": "HfUzg9MtOamS"
      },
      "execution_count": null,
      "outputs": []
    },
    {
      "cell_type": "code",
      "source": [
        "# Step 3: Train the SVM model\n",
        "svm_model = SVC(kernel='linear', C=1.0, random_state=42)\n",
        "svm_model.fit(X_train_tfidf, y_train)"
      ],
      "metadata": {
        "colab": {
          "base_uri": "https://localhost:8080/",
          "height": 75
        },
        "id": "ow4s45h9Oao0",
        "outputId": "52826f1d-ebf0-4512-bb03-2388f3011e12"
      },
      "execution_count": null,
      "outputs": [
        {
          "output_type": "execute_result",
          "data": {
            "text/plain": [
              "SVC(kernel='linear', random_state=42)"
            ],
            "text/html": [
              "<style>#sk-container-id-1 {color: black;background-color: white;}#sk-container-id-1 pre{padding: 0;}#sk-container-id-1 div.sk-toggleable {background-color: white;}#sk-container-id-1 label.sk-toggleable__label {cursor: pointer;display: block;width: 100%;margin-bottom: 0;padding: 0.3em;box-sizing: border-box;text-align: center;}#sk-container-id-1 label.sk-toggleable__label-arrow:before {content: \"▸\";float: left;margin-right: 0.25em;color: #696969;}#sk-container-id-1 label.sk-toggleable__label-arrow:hover:before {color: black;}#sk-container-id-1 div.sk-estimator:hover label.sk-toggleable__label-arrow:before {color: black;}#sk-container-id-1 div.sk-toggleable__content {max-height: 0;max-width: 0;overflow: hidden;text-align: left;background-color: #f0f8ff;}#sk-container-id-1 div.sk-toggleable__content pre {margin: 0.2em;color: black;border-radius: 0.25em;background-color: #f0f8ff;}#sk-container-id-1 input.sk-toggleable__control:checked~div.sk-toggleable__content {max-height: 200px;max-width: 100%;overflow: auto;}#sk-container-id-1 input.sk-toggleable__control:checked~label.sk-toggleable__label-arrow:before {content: \"▾\";}#sk-container-id-1 div.sk-estimator input.sk-toggleable__control:checked~label.sk-toggleable__label {background-color: #d4ebff;}#sk-container-id-1 div.sk-label input.sk-toggleable__control:checked~label.sk-toggleable__label {background-color: #d4ebff;}#sk-container-id-1 input.sk-hidden--visually {border: 0;clip: rect(1px 1px 1px 1px);clip: rect(1px, 1px, 1px, 1px);height: 1px;margin: -1px;overflow: hidden;padding: 0;position: absolute;width: 1px;}#sk-container-id-1 div.sk-estimator {font-family: monospace;background-color: #f0f8ff;border: 1px dotted black;border-radius: 0.25em;box-sizing: border-box;margin-bottom: 0.5em;}#sk-container-id-1 div.sk-estimator:hover {background-color: #d4ebff;}#sk-container-id-1 div.sk-parallel-item::after {content: \"\";width: 100%;border-bottom: 1px solid gray;flex-grow: 1;}#sk-container-id-1 div.sk-label:hover label.sk-toggleable__label {background-color: #d4ebff;}#sk-container-id-1 div.sk-serial::before {content: \"\";position: absolute;border-left: 1px solid gray;box-sizing: border-box;top: 0;bottom: 0;left: 50%;z-index: 0;}#sk-container-id-1 div.sk-serial {display: flex;flex-direction: column;align-items: center;background-color: white;padding-right: 0.2em;padding-left: 0.2em;position: relative;}#sk-container-id-1 div.sk-item {position: relative;z-index: 1;}#sk-container-id-1 div.sk-parallel {display: flex;align-items: stretch;justify-content: center;background-color: white;position: relative;}#sk-container-id-1 div.sk-item::before, #sk-container-id-1 div.sk-parallel-item::before {content: \"\";position: absolute;border-left: 1px solid gray;box-sizing: border-box;top: 0;bottom: 0;left: 50%;z-index: -1;}#sk-container-id-1 div.sk-parallel-item {display: flex;flex-direction: column;z-index: 1;position: relative;background-color: white;}#sk-container-id-1 div.sk-parallel-item:first-child::after {align-self: flex-end;width: 50%;}#sk-container-id-1 div.sk-parallel-item:last-child::after {align-self: flex-start;width: 50%;}#sk-container-id-1 div.sk-parallel-item:only-child::after {width: 0;}#sk-container-id-1 div.sk-dashed-wrapped {border: 1px dashed gray;margin: 0 0.4em 0.5em 0.4em;box-sizing: border-box;padding-bottom: 0.4em;background-color: white;}#sk-container-id-1 div.sk-label label {font-family: monospace;font-weight: bold;display: inline-block;line-height: 1.2em;}#sk-container-id-1 div.sk-label-container {text-align: center;}#sk-container-id-1 div.sk-container {/* jupyter's `normalize.less` sets `[hidden] { display: none; }` but bootstrap.min.css set `[hidden] { display: none !important; }` so we also need the `!important` here to be able to override the default hidden behavior on the sphinx rendered scikit-learn.org. See: https://github.com/scikit-learn/scikit-learn/issues/21755 */display: inline-block !important;position: relative;}#sk-container-id-1 div.sk-text-repr-fallback {display: none;}</style><div id=\"sk-container-id-1\" class=\"sk-top-container\"><div class=\"sk-text-repr-fallback\"><pre>SVC(kernel=&#x27;linear&#x27;, random_state=42)</pre><b>In a Jupyter environment, please rerun this cell to show the HTML representation or trust the notebook. <br />On GitHub, the HTML representation is unable to render, please try loading this page with nbviewer.org.</b></div><div class=\"sk-container\" hidden><div class=\"sk-item\"><div class=\"sk-estimator sk-toggleable\"><input class=\"sk-toggleable__control sk-hidden--visually\" id=\"sk-estimator-id-1\" type=\"checkbox\" checked><label for=\"sk-estimator-id-1\" class=\"sk-toggleable__label sk-toggleable__label-arrow\">SVC</label><div class=\"sk-toggleable__content\"><pre>SVC(kernel=&#x27;linear&#x27;, random_state=42)</pre></div></div></div></div></div>"
            ]
          },
          "metadata": {},
          "execution_count": 33
        }
      ]
    },
    {
      "cell_type": "code",
      "source": [
        "# Step 4: Save the trained model\n",
        "model_save_path = '/content/drive/MyDrive/svmmodels/pbt_svm.pkl'\n",
        "joblib.dump(svm_model, model_save_path)"
      ],
      "metadata": {
        "colab": {
          "base_uri": "https://localhost:8080/"
        },
        "id": "PjqzhseZOarO",
        "outputId": "a849410b-9e89-4708-e2d3-902cfbcce47f"
      },
      "execution_count": null,
      "outputs": [
        {
          "output_type": "execute_result",
          "data": {
            "text/plain": [
              "['/content/drive/MyDrive/svmmodels/pbt_svm.pkl']"
            ]
          },
          "metadata": {},
          "execution_count": 34
        }
      ]
    },
    {
      "cell_type": "code",
      "source": [
        "# Step 5: Evaluate the model's accuracy on validation data\n",
        "val_predictions = svm_model.predict(X_val_tfidf)\n",
        "accuracy = accuracy_score(y_val, val_predictions)\n",
        "print(f\"Validation Accuracy: {accuracy:.4f}\")"
      ],
      "metadata": {
        "colab": {
          "base_uri": "https://localhost:8080/"
        },
        "id": "GQOJ_o0XPSA1",
        "outputId": "180ac6bc-b83d-4276-c25d-9669e31324a5"
      },
      "execution_count": null,
      "outputs": [
        {
          "output_type": "stream",
          "name": "stdout",
          "text": [
            "Validation Accuracy: 0.9411\n"
          ]
        }
      ]
    },
    {
      "cell_type": "markdown",
      "source": [
        "# Genetic Algorithms"
      ],
      "metadata": {
        "id": "76rZN0kTasxi"
      }
    },
    {
      "cell_type": "code",
      "source": [
        "import pandas as pd\n",
        "from sklearn.svm import SVC\n",
        "from sklearn.metrics import accuracy_score\n",
        "from sklearn.preprocessing import LabelEncoder\n",
        "from sklearn.feature_extraction.text import TfidfVectorizer\n",
        "import numpy as np"
      ],
      "metadata": {
        "id": "FctP08biPSDM"
      },
      "execution_count": null,
      "outputs": []
    },
    {
      "cell_type": "code",
      "source": [
        "# Step 1: Load the datasets\n",
        "train_data_path = '/content/drive/MyDrive/Project11_FakeNewsDetection/train.csv'\n",
        "val_data_path = '/content/drive/MyDrive/Project11_FakeNewsDetection/val.csv'\n",
        "test_data_path = '/content/drive/MyDrive/Project11_FakeNewsDetection/test.csv'\n",
        "\n",
        "train_data = pd.read_csv(train_data_path)\n",
        "val_data = pd.read_csv(val_data_path)\n",
        "test_data = pd.read_csv(test_data_path)\n",
        "\n",
        "# Assuming your 'label' column needs encoding (if not binary already)\n",
        "label_encoder = LabelEncoder()\n",
        "train_data['label'] = label_encoder.fit_transform(train_data['label'])\n",
        "val_data['label'] = label_encoder.transform(val_data['label'])\n",
        "test_data['label'] = label_encoder.transform(test_data['label'])"
      ],
      "metadata": {
        "id": "I9oRpryXa34G"
      },
      "execution_count": null,
      "outputs": []
    },
    {
      "cell_type": "code",
      "source": [
        "# Step 2: Feature extraction (TF-IDF)\n",
        "vectorizer = TfidfVectorizer(max_features=1000)\n",
        "X_train_tfidf = vectorizer.fit_transform(train_data['title'])\n",
        "X_val_tfidf = vectorizer.transform(val_data['title'])\n",
        "X_test_tfidf = vectorizer.transform(test_data['title'])\n",
        "y_train = train_data['label']\n",
        "y_val = val_data['label']\n",
        "y_test = test_data['label']"
      ],
      "metadata": {
        "id": "jq9USjara36n"
      },
      "execution_count": null,
      "outputs": []
    },
    {
      "cell_type": "code",
      "source": [
        "# Genetic Algorithm Settings\n",
        "population_size = 10\n",
        "num_generations = 5\n",
        "mutation_rate = 0.1"
      ],
      "metadata": {
        "id": "8tiW_5UTa39g"
      },
      "execution_count": null,
      "outputs": []
    },
    {
      "cell_type": "code",
      "source": [
        "# Genetic Algorithm Framework\n",
        "population = []\n",
        "for _ in range(population_size):\n",
        "    # Randomly initialize SVM hyperparameters\n",
        "    C = np.random.uniform(0.1, 10.0)\n",
        "    kernel = np.random.choice(['linear', 'rbf'])\n",
        "    gamma = 'scale' if kernel == 'rbf' else 'auto'\n",
        "\n",
        "    # Train SVM with current hyperparameters\n",
        "    svm_model = SVC(kernel=kernel, C=C, gamma=gamma, random_state=42)\n",
        "    svm_model.fit(X_train_tfidf, y_train)\n",
        "\n",
        "    # Evaluate fitness on validation set\n",
        "    val_predictions = svm_model.predict(X_val_tfidf)\n",
        "    accuracy = accuracy_score(y_val, val_predictions)\n",
        "\n",
        "    # Store hyperparameters and accuracy in population\n",
        "    population.append((svm_model, {'kernel': kernel, 'C': C, 'gamma': gamma}, accuracy))"
      ],
      "metadata": {
        "id": "z_Np0wLCa4AN"
      },
      "execution_count": null,
      "outputs": []
    },
    {
      "cell_type": "code",
      "source": [
        "# Evolution loop\n",
        "for generation in range(num_generations):\n",
        "    # Sort population by fitness (accuracy)\n",
        "    population.sort(key=lambda x: x[2], reverse=True)\n",
        "\n",
        "    # Print the best model in the current generation\n",
        "    best_model, best_hyperparams, best_accuracy = population[0]\n",
        "    print(f\"Generation {generation + 1}: Best Accuracy = {best_accuracy:.4f}, Hyperparameters = {best_hyperparams}\")\n",
        "\n",
        "    # Select top performers to produce offspring\n",
        "    selected_parents = population[:population_size // 2]\n",
        "\n",
        "    # Crossover and mutation\n",
        "    offspring_population = []\n",
        "    for i in range(population_size):\n",
        "        parent1, params1, _ = selected_parents[np.random.randint(len(selected_parents))]\n",
        "        parent2, params2, _ = selected_parents[np.random.randint(len(selected_parents))]\n",
        "\n",
        "        # Perform crossover (combine hyperparameters)\n",
        "        child_params = {}\n",
        "        for param_key in params1.keys():\n",
        "            if np.random.rand() < 0.5:\n",
        "                child_params[param_key] = params1[param_key]\n",
        "            else:\n",
        "                child_params[param_key] = params2[param_key]\n",
        "\n",
        "        # Perform mutation (slight modification to hyperparameters)\n",
        "        for param_key in child_params.keys():\n",
        "            if np.random.rand() < mutation_rate:\n",
        "                if param_key == 'C':\n",
        "                    child_params[param_key] = np.random.uniform(0.1, 10.0)\n",
        "                elif param_key == 'kernel':\n",
        "                    child_params[param_key] = np.random.choice(['linear', 'rbf'])\n",
        "                    if child_params[param_key] == 'rbf':\n",
        "                        child_params['gamma'] = 'scale'  # Adjust gamma for RBF kernel\n",
        "\n",
        "        # Train SVM with mutated hyperparameters\n",
        "        child_model = SVC(kernel=child_params['kernel'], C=child_params['C'], gamma=child_params['gamma'], random_state=42)\n",
        "        child_model.fit(X_train_tfidf, y_train)\n",
        "\n",
        "        # Evaluate fitness on validation set\n",
        "        val_predictions = child_model.predict(X_val_tfidf)\n",
        "        accuracy = accuracy_score(y_val, val_predictions)\n",
        "\n",
        "        # Add child to offspring population\n",
        "        offspring_population.append((child_model, child_params, accuracy))\n",
        "\n",
        "    # Replace the old population with the offspring\n",
        "    population = offspring_population"
      ],
      "metadata": {
        "id": "J3bcTobpa4C4",
        "colab": {
          "base_uri": "https://localhost:8080/"
        },
        "outputId": "b8aa803c-4646-485e-dcc9-7bef431e99dc"
      },
      "execution_count": null,
      "outputs": [
        {
          "output_type": "stream",
          "name": "stdout",
          "text": [
            "Generation 1: Best Accuracy = 0.9541, Hyperparameters = {'kernel': 'rbf', 'C': 1.268173565515574, 'gamma': 'scale'}\n",
            "Generation 2: Best Accuracy = 0.9541, Hyperparameters = {'kernel': 'rbf', 'C': 1.268173565515574, 'gamma': 'scale'}\n",
            "Generation 3: Best Accuracy = 0.9541, Hyperparameters = {'kernel': 'rbf', 'C': 1.8570765612040026, 'gamma': 'scale'}\n",
            "Generation 4: Best Accuracy = 0.9541, Hyperparameters = {'kernel': 'rbf', 'C': 1.268173565515574, 'gamma': 'scale'}\n",
            "Generation 5: Best Accuracy = 0.9541, Hyperparameters = {'kernel': 'rbf', 'C': 1.268173565515574, 'gamma': 'scale'}\n"
          ]
        }
      ]
    },
    {
      "cell_type": "code",
      "source": [
        "# Final best model evaluation on test set\n",
        "population.sort(key=lambda x: x[2], reverse=True)\n",
        "best_model, best_hyperparams, best_accuracy = population[0]\n",
        "print(f\"Best Model - Accuracy on Validation Set: {best_accuracy:.4f}, Hyperparameters: {best_hyperparams}\")\n",
        "\n",
        "# Evaluate on test set\n",
        "test_predictions = best_model.predict(X_test_tfidf)\n",
        "test_accuracy = accuracy_score(y_test, test_predictions)\n",
        "print(f\"Accuracy on Test Set: {test_accuracy:.4f}\")"
      ],
      "metadata": {
        "id": "PXi8vwDya4Fm",
        "colab": {
          "base_uri": "https://localhost:8080/"
        },
        "outputId": "746423a6-c69d-46b7-f21a-8d5075f932ce"
      },
      "execution_count": null,
      "outputs": [
        {
          "output_type": "stream",
          "name": "stdout",
          "text": [
            "Best Model - Accuracy on Validation Set: 0.9541, Hyperparameters: {'kernel': 'rbf', 'C': 1.8570765612040026, 'gamma': 'scale'}\n",
            "Accuracy on Test Set: 0.9551\n"
          ]
        }
      ]
    },
    {
      "cell_type": "code",
      "source": [
        "import joblib\n",
        "\n",
        "# Final best model evaluation on test set\n",
        "population.sort(key=lambda x: x[2], reverse=True)\n",
        "best_model, best_hyperparams, best_accuracy = population[0]\n",
        "print(f\"Best Model - Accuracy on Validation Set: {best_accuracy:.4f}, Hyperparameters: {best_hyperparams}\")\n",
        "\n",
        "# Save the best model\n",
        "model_save_path = '/content/drive/MyDrive/svmmodels/geneticsvm.pkl'\n",
        "joblib.dump(best_model, model_save_path)\n",
        "print(f\"Saved the best SVM model to {model_save_path}\")\n",
        "\n",
        "# Evaluate on test set\n",
        "test_predictions = best_model.predict(X_test_tfidf)\n",
        "test_accuracy = accuracy_score(y_test, test_predictions)\n",
        "print(f\"Accuracy on Test Set: {test_accuracy:.4f}\")"
      ],
      "metadata": {
        "id": "8gBsFtxOa4IL",
        "colab": {
          "base_uri": "https://localhost:8080/"
        },
        "outputId": "528b036b-626d-438d-d865-482f02952193"
      },
      "execution_count": null,
      "outputs": [
        {
          "output_type": "stream",
          "name": "stdout",
          "text": [
            "Best Model - Accuracy on Validation Set: 0.9541, Hyperparameters: {'kernel': 'rbf', 'C': 1.8570765612040026, 'gamma': 'scale'}\n",
            "Saved the best SVM model to /content/drive/MyDrive/svmmodels/geneticsvm.pkl\n",
            "Accuracy on Test Set: 0.9551\n"
          ]
        }
      ]
    },
    {
      "cell_type": "markdown",
      "source": [
        "# Hyperband"
      ],
      "metadata": {
        "id": "wT_YxJNcsGZ2"
      }
    },
    {
      "cell_type": "code",
      "source": [
        "pip install scikit-optimize"
      ],
      "metadata": {
        "colab": {
          "base_uri": "https://localhost:8080/"
        },
        "id": "HfBDJzGmsRT_",
        "outputId": "49c23ebb-1354-44ad-e1e0-6bad8ab6d1ab"
      },
      "execution_count": null,
      "outputs": [
        {
          "output_type": "stream",
          "name": "stdout",
          "text": [
            "Collecting scikit-optimize\n",
            "  Downloading scikit_optimize-0.10.2-py2.py3-none-any.whl (107 kB)\n",
            "\u001b[2K     \u001b[90m━━━━━━━━━━━━━━━━━━━━━━━━━━━━━━━━━━━━━━━━\u001b[0m \u001b[32m107.8/107.8 kB\u001b[0m \u001b[31m3.0 MB/s\u001b[0m eta \u001b[36m0:00:00\u001b[0m\n",
            "\u001b[?25hRequirement already satisfied: joblib>=0.11 in /usr/local/lib/python3.10/dist-packages (from scikit-optimize) (1.4.2)\n",
            "Collecting pyaml>=16.9 (from scikit-optimize)\n",
            "  Downloading pyaml-24.4.0-py3-none-any.whl (24 kB)\n",
            "Requirement already satisfied: numpy>=1.20.3 in /usr/local/lib/python3.10/dist-packages (from scikit-optimize) (1.25.2)\n",
            "Requirement already satisfied: scipy>=1.1.0 in /usr/local/lib/python3.10/dist-packages (from scikit-optimize) (1.11.4)\n",
            "Requirement already satisfied: scikit-learn>=1.0.0 in /usr/local/lib/python3.10/dist-packages (from scikit-optimize) (1.2.2)\n",
            "Requirement already satisfied: packaging>=21.3 in /usr/local/lib/python3.10/dist-packages (from scikit-optimize) (24.1)\n",
            "Requirement already satisfied: PyYAML in /usr/local/lib/python3.10/dist-packages (from pyaml>=16.9->scikit-optimize) (6.0.1)\n",
            "Requirement already satisfied: threadpoolctl>=2.0.0 in /usr/local/lib/python3.10/dist-packages (from scikit-learn>=1.0.0->scikit-optimize) (3.5.0)\n",
            "Installing collected packages: pyaml, scikit-optimize\n",
            "Successfully installed pyaml-24.4.0 scikit-optimize-0.10.2\n"
          ]
        }
      ]
    },
    {
      "cell_type": "code",
      "source": [
        "import pandas as pd\n",
        "from sklearn.svm import SVC\n",
        "from sklearn.feature_extraction.text import TfidfVectorizer\n",
        "from sklearn.metrics import classification_report\n",
        "import joblib\n",
        "from skopt import BayesSearchCV\n",
        "from skopt.callbacks import VerboseCallback\n",
        "from skopt.space import Real, Categorical, Integer"
      ],
      "metadata": {
        "id": "VbqBFDMBsSgc"
      },
      "execution_count": null,
      "outputs": []
    },
    {
      "cell_type": "code",
      "source": [
        "train_data_path = '/content/drive/MyDrive/Project11_FakeNewsDetection/train.csv'\n",
        "val_data_path = '/content/drive/MyDrive/Project11_FakeNewsDetection/val.csv'\n",
        "test_data_path = '/content/drive/MyDrive/Project11_FakeNewsDetection/test.csv'\n",
        "\n",
        "train_data = pd.read_csv(train_data_path)\n",
        "val_data = pd.read_csv(val_data_path)\n",
        "test_data = pd.read_csv(test_data_path)\n",
        "# ... (Your previous code) ...\n",
        "# Convert 'label' column to string type before using .str accessor\n",
        "train_data['label'] = train_data['label'].astype(str).str.lower().apply(lambda x: 1 if x == 'false' else 0)\n",
        "val_data['label'] = val_data['label'].astype(str).str.lower().apply(lambda x: 1 if x == 'false' else 0)\n",
        "test_data['label'] = test_data['label'].astype(str).str.lower().apply(lambda x: 1 if x == 'false' else 0)\n",
        "\n",
        "# --- Check label distribution AFTER conversion ---\n",
        "print(\"Train data labels after conversion:\", train_data['label'].value_counts())\n",
        "print(\"Validation data labels after conversion:\", val_data['label'].value_counts())\n",
        "# ... rest of your code\n",
        "# Combine train and val data for hyperparameter tuning\n",
        "X_train = train_data['title']\n",
        "y_train = train_data['label']\n",
        "X_val = val_data['title']\n",
        "y_val = val_data['label']"
      ],
      "metadata": {
        "colab": {
          "base_uri": "https://localhost:8080/"
        },
        "id": "m6JIAfwHsSjc",
        "outputId": "71492cd4-d6c3-4ca0-b870-ffd3f93ee027"
      },
      "execution_count": null,
      "outputs": [
        {
          "output_type": "stream",
          "name": "stdout",
          "text": [
            "Train data labels after conversion: label\n",
            "0    16436\n",
            "1    14992\n",
            "Name: count, dtype: int64\n",
            "Validation data labels after conversion: label\n",
            "0    3522\n",
            "1    3213\n",
            "Name: count, dtype: int64\n"
          ]
        }
      ]
    },
    {
      "cell_type": "code",
      "source": [
        "# Vectorize the text data\n",
        "vectorizer = TfidfVectorizer(max_features=1000)\n",
        "X_train_tfidf = vectorizer.fit_transform(X_train)\n",
        "X_val_tfidf = vectorizer.transform(X_val)\n",
        "\n",
        "# Define the parameter space for Hyperband\n",
        "param_space = {\n",
        "    'C': Real(1e-6, 1e+6, prior='log-uniform'),\n",
        "    'gamma': Real(1e-6, 1e+1, prior='log-uniform'),\n",
        "    'kernel': Categorical(['linear', 'poly', 'rbf', 'sigmoid']),\n",
        "    'degree': Integer(1, 8),  # Only used for 'poly' kernel\n",
        "}"
      ],
      "metadata": {
        "id": "BJdXfUXCsSmS"
      },
      "execution_count": null,
      "outputs": []
    },
    {
      "cell_type": "code",
      "source": [
        "# Check unique labels in training data\n",
        "print(y_train.unique())\n",
        "\n",
        "# Check distribution of labels\n",
        "print(y_train.value_counts())"
      ],
      "metadata": {
        "colab": {
          "base_uri": "https://localhost:8080/"
        },
        "id": "zuI0MTXZtMRJ",
        "outputId": "a6dff7df-a3b8-4a10-a140-166e6f78939e"
      },
      "execution_count": null,
      "outputs": [
        {
          "output_type": "stream",
          "name": "stdout",
          "text": [
            "[0 1]\n",
            "label\n",
            "0    16436\n",
            "1    14992\n",
            "Name: count, dtype: int64\n"
          ]
        }
      ]
    },
    {
      "cell_type": "code",
      "source": [
        "# Initialize the SVM model\n",
        "svc = SVC()\n",
        "\n",
        "# Stratified K-Fold for better class distribution in splits\n",
        "from sklearn.model_selection import StratifiedKFold\n",
        "skf = StratifiedKFold(n_splits=3, shuffle=True, random_state=42)\n",
        "\n",
        "# Perform Hyperband search with StratifiedKFold\n",
        "hyperband = BayesSearchCV(svc, param_space, n_iter=5, cv=skf, n_jobs=-1, random_state=42, scoring='accuracy')\n",
        "hyperband.fit(X_train_tfidf, y_train, callback=VerboseCallback(n_total=20))\n",
        "\n",
        "# Print the best parameters found\n",
        "print(f\"Best parameters found: {hyperband.best_params_}\")"
      ],
      "metadata": {
        "colab": {
          "base_uri": "https://localhost:8080/"
        },
        "id": "JsJ0B3F_scli",
        "outputId": "81ef326f-0f85-492b-de1f-db1760b1949c"
      },
      "execution_count": null,
      "outputs": [
        {
          "output_type": "stream",
          "name": "stdout",
          "text": [
            "Iteration No: 1 started. Searching for the next optimal point.\n",
            "Iteration No: 1 ended. Search finished for the next optimal point.\n",
            "Time taken: 438.4660\n",
            "Function value obtained: -0.8546\n",
            "Current minimum: -0.8546\n",
            "Iteration No: 2 started. Searching for the next optimal point.\n",
            "Iteration No: 2 ended. Search finished for the next optimal point.\n",
            "Time taken: 53.1981\n",
            "Function value obtained: -0.9369\n",
            "Current minimum: -0.9369\n",
            "Iteration No: 3 started. Searching for the next optimal point.\n",
            "Iteration No: 3 ended. Search finished for the next optimal point.\n",
            "Time taken: 189.6086\n",
            "Function value obtained: -0.5230\n",
            "Current minimum: -0.9369\n",
            "Iteration No: 4 started. Searching for the next optimal point.\n",
            "Iteration No: 4 ended. Search finished for the next optimal point.\n",
            "Time taken: 267.8876\n",
            "Function value obtained: -0.9356\n",
            "Current minimum: -0.9369\n",
            "Iteration No: 5 started. Searching for the next optimal point.\n",
            "Iteration No: 5 ended. Search finished for the next optimal point.\n",
            "Time taken: 114.2453\n",
            "Function value obtained: -0.9373\n",
            "Current minimum: -0.9373\n",
            "Iteration No: 6 started. Searching for the next optimal point.\n",
            "Best parameters found: OrderedDict([('C', 3932.2516133086), ('degree', 4), ('gamma', 0.004856704273115606), ('kernel', 'rbf')])\n",
            "Best parameters found: OrderedDict([('C', 3932.2516133086), ('degree', 4), ('gamma', 0.004856704273115606), ('kernel', 'rbf')])\n"
          ]
        }
      ]
    },
    {
      "cell_type": "code",
      "source": [
        "# Save the best model\n",
        "best_model = hyperband.best_estimator_\n",
        "model_path = '/content/drive/MyDrive/svmmodels/hyperbandsvm.pkl'\n",
        "joblib.dump(best_model, model_path)"
      ],
      "metadata": {
        "colab": {
          "base_uri": "https://localhost:8080/"
        },
        "id": "6z9fKwLHyB-M",
        "outputId": "48e314d2-4094-4756-9065-c9a6a61e9dc3"
      },
      "execution_count": null,
      "outputs": [
        {
          "output_type": "execute_result",
          "data": {
            "text/plain": [
              "['/content/drive/MyDrive/svmmodels/hyperbandsvm.pkl']"
            ]
          },
          "metadata": {},
          "execution_count": 33
        }
      ]
    },
    {
      "cell_type": "code",
      "source": [
        "# Evaluate the model on the validation set\n",
        "y_val_pred = best_model.predict(X_val_tfidf)\n",
        "print(\"Validation Set Performance:\")\n",
        "print(classification_report(y_val, y_val_pred))\n",
        "\n",
        "# Preprocess the test data\n",
        "X_test = test_data['title']\n",
        "y_test = test_data['label']\n",
        "X_test_tfidf = vectorizer.transform(X_test)\n",
        "\n",
        "# Evaluate the model on the test set\n",
        "y_test_pred = best_model.predict(X_test_tfidf)\n",
        "print(\"Test Set Performance:\")\n",
        "print(classification_report(y_test, y_test_pred))"
      ],
      "metadata": {
        "colab": {
          "base_uri": "https://localhost:8080/"
        },
        "id": "AHzc8ny8scoF",
        "outputId": "f84e32d8-f33b-4627-85cc-bc3eb9313e99"
      },
      "execution_count": null,
      "outputs": [
        {
          "output_type": "stream",
          "name": "stdout",
          "text": [
            "Validation Set Performance:\n",
            "              precision    recall  f1-score   support\n",
            "\n",
            "           0       0.95      0.94      0.94      3522\n",
            "           1       0.94      0.94      0.94      3213\n",
            "\n",
            "    accuracy                           0.94      6735\n",
            "   macro avg       0.94      0.94      0.94      6735\n",
            "weighted avg       0.94      0.94      0.94      6735\n",
            "\n",
            "Test Set Performance:\n",
            "              precision    recall  f1-score   support\n",
            "\n",
            "           0       0.95      0.94      0.94      3402\n",
            "           1       0.93      0.95      0.94      3194\n",
            "\n",
            "    accuracy                           0.94      6596\n",
            "   macro avg       0.94      0.94      0.94      6596\n",
            "weighted avg       0.94      0.94      0.94      6596\n",
            "\n"
          ]
        }
      ]
    }
  ]
}